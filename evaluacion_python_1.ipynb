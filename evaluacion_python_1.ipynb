{
 "cells": [
  {
   "attachments": {},
   "cell_type": "markdown",
   "metadata": {},
   "source": [
    "**Métodos de *strings***\n",
    "\n",
    "Dado el siguiente *string* \n",
    "\n",
    "```python\n",
    "\n",
    "string = \"\"\"Hoy estamos en una clase de repaso,\n",
    "el objetivo es intentar solucionar todas vuestras dudas, \n",
    "preguntad todo lo que queráis! \n",
    "\"\"\"\n",
    "```\n",
    "\n",
    "\n",
    "Contesta a las siguientes preguntas: \n",
    "\n",
    "1️⃣ Crea dos variables nuevas: \n",
    "    - Una con el *string* en mayúsculas\n",
    "    - Otra con las letras en minúsculas\n",
    "\n",
    "2️⃣ Pon todas las primeras letras del *string* en mayúscula\n",
    "\n",
    "3️⃣ Separa el *string*  por los espacios y almacena el resultado en una lista llamanda `texto_lista`\n",
    "\n",
    "4️⃣ De la lista obtenida en el ejercicio anterior, selecciona solo los 5 primero elementos y almacena los resultados en una variable que se llame `texto_lista_corta` \n",
    "\n",
    "5️⃣ De la lista obtenida en el ejercicio 5. Vuelve a convertirlo en *string* \n",
    "\n",
    "6️⃣ Con el *string* obtenido en el paso anterior: \n",
    "\n",
    "    - Esta la palabra \"el\" en el *string* \n",
    "\n",
    "    - Reemplaza \"Hoy\" por nada\n",
    "\n",
    "    - El ejercicio anterior nos ha dejado espacios al inicio del string, eliminalos\n"
   ]
  },
  {
   "cell_type": "code",
   "execution_count": 3,
   "metadata": {},
   "outputs": [
    {
     "data": {
      "text/plain": [
       "'Hoy estamos en una clase de repaso,\\nel objetivo es intentar solucionar todas vuestras dudas, \\npreguntad todo lo que queráis! \\n'"
      ]
     },
     "execution_count": 3,
     "metadata": {},
     "output_type": "execute_result"
    }
   ],
   "source": [
    "# Se crea y printea la variable string\n",
    "string = \"\"\"Hoy estamos en una clase de repaso,\n",
    "el objetivo es intentar solucionar todas vuestras dudas, \n",
    "preguntad todo lo que queráis! \n",
    "\"\"\"\n",
    "string"
   ]
  },
  {
   "cell_type": "code",
   "execution_count": 4,
   "metadata": {},
   "outputs": [
    {
     "data": {
      "text/plain": [
       "'HOY ESTAMOS EN UNA CLASE DE REPASO,\\nEL OBJETIVO ES INTENTAR SOLUCIONAR TODAS VUESTRAS DUDAS, \\nPREGUNTAD TODO LO QUE QUERÁIS! \\n'"
      ]
     },
     "execution_count": 4,
     "metadata": {},
     "output_type": "execute_result"
    }
   ],
   "source": [
    "# EJERCICIO 1️⃣. Crea dos variables nuevas: \n",
    "# E1.1. Una con el string en mayúsculas\n",
    "string_mayus = string.upper()\n",
    "string_mayus"
   ]
  },
  {
   "cell_type": "code",
   "execution_count": 5,
   "metadata": {},
   "outputs": [
    {
     "data": {
      "text/plain": [
       "'hoy estamos en una clase de repaso,\\nel objetivo es intentar solucionar todas vuestras dudas, \\npreguntad todo lo que queráis! \\n'"
      ]
     },
     "execution_count": 5,
     "metadata": {},
     "output_type": "execute_result"
    }
   ],
   "source": [
    "# E1.2. Otra con las letras en minúsculas\n",
    "string_minus = string.lower()\n",
    "string_minus"
   ]
  },
  {
   "cell_type": "code",
   "execution_count": 6,
   "metadata": {},
   "outputs": [
    {
     "data": {
      "text/plain": [
       "'Hoy Estamos En Una Clase De Repaso,\\nEl Objetivo Es Intentar Solucionar Todas Vuestras Dudas, \\nPreguntad Todo Lo Que Queráis! \\n'"
      ]
     },
     "execution_count": 6,
     "metadata": {},
     "output_type": "execute_result"
    }
   ],
   "source": [
    "# EJERCICIO 2️⃣. Pon todas las primeras letras del string en mayúscula\n",
    "# E2.1. Si solo queremos que nos lo devuelva pero no lo guarde basta aplicar el método:\n",
    "string.title() "
   ]
  },
  {
   "cell_type": "code",
   "execution_count": 7,
   "metadata": {},
   "outputs": [
    {
     "data": {
      "text/plain": [
       "'Hoy Estamos En Una Clase De Repaso,\\nEl Objetivo Es Intentar Solucionar Todas Vuestras Dudas, \\nPreguntad Todo Lo Que Queráis! \\n'"
      ]
     },
     "execution_count": 7,
     "metadata": {},
     "output_type": "execute_result"
    }
   ],
   "source": [
    "# E2.2. Si queremos guardarlo modificado habría que crear otra variable\n",
    "string_titulo = string.title()\n",
    "string_titulo"
   ]
  },
  {
   "cell_type": "code",
   "execution_count": 8,
   "metadata": {},
   "outputs": [
    {
     "data": {
      "text/plain": [
       "['Hoy',\n",
       " 'estamos',\n",
       " 'en',\n",
       " 'una',\n",
       " 'clase',\n",
       " 'de',\n",
       " 'repaso,',\n",
       " 'el',\n",
       " 'objetivo',\n",
       " 'es',\n",
       " 'intentar',\n",
       " 'solucionar',\n",
       " 'todas',\n",
       " 'vuestras',\n",
       " 'dudas,',\n",
       " 'preguntad',\n",
       " 'todo',\n",
       " 'lo',\n",
       " 'que',\n",
       " 'queráis!']"
      ]
     },
     "execution_count": 8,
     "metadata": {},
     "output_type": "execute_result"
    }
   ],
   "source": [
    "# EJERCICIO 3️⃣ Separa el string  por los espacios y almacena el resultado en una lista llamanda `texto_lista`\n",
    "texto_lista = string.split()\n",
    "texto_lista"
   ]
  },
  {
   "cell_type": "code",
   "execution_count": 20,
   "metadata": {},
   "outputs": [
    {
     "data": {
      "text/plain": [
       "['Hoy', 'estamos', 'en', 'una', 'clase']"
      ]
     },
     "execution_count": 20,
     "metadata": {},
     "output_type": "execute_result"
    }
   ],
   "source": [
    "# EJERCICO 4️⃣ De la lista obtenida en el ejercicio anterior, selecciona solo los 5 primero elementos y almacena los resultados en una variable que se llame `texto_lista_corta` \n",
    "texto_lista_corta = texto_lista[:5]\n",
    "texto_lista_corta"
   ]
  },
  {
   "cell_type": "code",
   "execution_count": 21,
   "metadata": {},
   "outputs": [
    {
     "data": {
      "text/plain": [
       "'Hoy estamos en una clase'"
      ]
     },
     "execution_count": 21,
     "metadata": {},
     "output_type": "execute_result"
    }
   ],
   "source": [
    "# EJERCICIO 5️⃣ De la lista obtenida en el ejercicio 5. Vuelve a convertirlo en string. \n",
    "# Entiendo que por se refiere al ejercicio 4 por lo que me baso en la variable `texto_lista_corta`.\n",
    "string2 = \" \".join(texto_lista_corta)\n",
    "string2"
   ]
  },
  {
   "cell_type": "code",
   "execution_count": 22,
   "metadata": {},
   "outputs": [
    {
     "data": {
      "text/plain": [
       "False"
      ]
     },
     "execution_count": 22,
     "metadata": {},
     "output_type": "execute_result"
    }
   ],
   "source": [
    "# EJERCICIO 6️⃣ Con el string obtenido en el paso anterior: \n",
    "# E6.1. ¿Está la palabra \"el\" en el string?\n",
    "\"el\" in string2 # para saber si está basta esto. El resultado False indica que no está\n"
   ]
  },
  {
   "cell_type": "code",
   "execution_count": 23,
   "metadata": {},
   "outputs": [
    {
     "name": "stdout",
     "output_type": "stream",
     "text": [
      "La palabra \"el\" no está en la variable llamada \"string2\"\n"
     ]
    }
   ],
   "source": [
    "# También podemos sacar la posición (si no estuviera nos daría posiciónn -1)\n",
    "posicion_el = string2.find('el')\n",
    "if posicion_el == -1:\n",
    "    print('La palabra \"el\" no está en la variable llamada \"string2\"')\n",
    "else:\n",
    "    print(f'La palabra \"el\" está en la posición {posicion_el} de la variable llamada \"string2\"')"
   ]
  },
  {
   "cell_type": "code",
   "execution_count": 24,
   "metadata": {},
   "outputs": [
    {
     "data": {
      "text/plain": [
       "' estamos en una clase'"
      ]
     },
     "execution_count": 24,
     "metadata": {},
     "output_type": "execute_result"
    }
   ],
   "source": [
    "# E6.2. Reemplaza \"Hoy\" por nada\n",
    "# E6.2.a) Si solo queremos que nos lo devuelva pero no lo guarde basta aplicar el método:\n",
    "string2.replace('Hoy', '')"
   ]
  },
  {
   "cell_type": "code",
   "execution_count": 25,
   "metadata": {},
   "outputs": [
    {
     "data": {
      "text/plain": [
       "' estamos en una clase'"
      ]
     },
     "execution_count": 25,
     "metadata": {},
     "output_type": "execute_result"
    }
   ],
   "source": [
    "# E6.2.b) Si queremos guardarlo modificado habría que crear otra variable\n",
    "string_reemplazado = string2.replace('Hoy', '')\n",
    "string_reemplazado"
   ]
  },
  {
   "cell_type": "code",
   "execution_count": 26,
   "metadata": {},
   "outputs": [
    {
     "data": {
      "text/plain": [
       "'estamos en una clase'"
      ]
     },
     "execution_count": 26,
     "metadata": {},
     "output_type": "execute_result"
    }
   ],
   "source": [
    "# E6.3. El ejercicio anterior nos ha dejado espacios al inicio del string, eliminalos\n",
    "# E6.3.a) Si solo queremos que nos lo devuelva pero no lo guarde (y no lo teníamos guardado)\n",
    "string2.replace('Hoy', '').strip()"
   ]
  },
  {
   "cell_type": "code",
   "execution_count": 27,
   "metadata": {},
   "outputs": [
    {
     "data": {
      "text/plain": [
       "'estamos en una clase'"
      ]
     },
     "execution_count": 27,
     "metadata": {},
     "output_type": "execute_result"
    }
   ],
   "source": [
    "# E6.3.b) Si tenemos el resultado anterior en una variable y queremos guardarlo modificado habría que crear otra variable\n",
    "string_sin_espacios = string_reemplazado.strip()\n",
    "string_sin_espacios"
   ]
  },
  {
   "attachments": {},
   "cell_type": "markdown",
   "metadata": {},
   "source": [
    "**Encuentra el número que no está en la lista**\n",
    "\n",
    "Tenemos una lista desordenada con números positivos de 1 a n. Siempre faltará un sólo número de esta lista aleatoria, ¿cómo identifico cuál falta? Cread un programa para que este código devuelva los resultados deseados:\n",
    "\n",
    "```python\n",
    "lista1 = [3,7,1,2,8,4,5] # nos tiene que devolver 6\n",
    "lista2 = [4,6,1,3,5] #  nos tiene que devolver 2\n",
    "lista3 = [34,35,36,38,39,40] # nos tiene que devolver 37\n",
    "```\n",
    "\n",
    "BONUS: Introduce los resultados obtenidos en un diccionario, indicando que numero falta para cada una de las listas:\n",
    "```python\n",
    "# por ejemplo\n",
    "\n",
    "resultados = {'falta_lista_1': valor_numerico_1, 'falta_lista_2': valor_numerico_2, 'falta_lista_3': valor_numerico_3}\n",
    "```"
   ]
  },
  {
   "cell_type": "code",
   "execution_count": 29,
   "metadata": {},
   "outputs": [],
   "source": [
    "# Se definen las listas:\n",
    "lista1 = [3,7,1,2,8,4,5]\n",
    "lista2 = [4,6,1,3,5] \n",
    "lista3 = [34,35,36,38,39,40]\n"
   ]
  },
  {
   "cell_type": "code",
   "execution_count": 30,
   "metadata": {},
   "outputs": [
    {
     "name": "stdout",
     "output_type": "stream",
     "text": [
      "El número 6 es el que falta en la lista [3, 7, 1, 2, 8, 4, 5]\n",
      "El número 2 es el que falta en la lista [4, 6, 1, 3, 5]\n",
      "El número 37 es el que falta en la lista [34, 35, 36, 38, 39, 40]\n"
     ]
    }
   ],
   "source": [
    "# Se crea una lista de listas para iterar por ella y dentro por cada lista\n",
    "lista_listas = [lista1, lista2, lista3]\n",
    "for i in lista_listas: # itera por las listas que forman `lista_listas` para sacar los rangos en los que iterar en cada lista después\n",
    "    min_i = min(i)\n",
    "    max_i = max(i)\n",
    "    for valor_numerico_i in range(min_i,(max_i+1)): # itera por los valores dentro de cada lista\n",
    "        if valor_numerico_i in i:\n",
    "            pass\n",
    "        else:\n",
    "            print(f'El número {valor_numerico_i} es el que falta en la lista {i}')\n",
    "            break"
   ]
  },
  {
   "cell_type": "code",
   "execution_count": 31,
   "metadata": {},
   "outputs": [
    {
     "name": "stdout",
     "output_type": "stream",
     "text": [
      "El número 6 es el que falta en la lista [3, 7, 1, 2, 8, 4, 5]\n",
      "El número 2 es el que falta en la lista [4, 6, 1, 3, 5]\n",
      "El número 37 es el que falta en la lista [34, 35, 36, 38, 39, 40]\n",
      "Diccionario de resultados: {'falta_lista_1': 6, 'falta_lista_2': 2, 'falta_lista_3': 37}\n"
     ]
    }
   ],
   "source": [
    "# BONUS. Introduce los resultados obtenidos en un diccionario, indicando que numero falta para cada una de las listas:\n",
    "# Para obtener este resultado se puede modificarl el código del anterior para que obtenga ambos resultados\n",
    "lista_listas = [lista1, lista2, lista3]\n",
    "resultados = {}\n",
    "for i in lista_listas:\n",
    "    min_i = min(i)\n",
    "    max_i = max(i)\n",
    "    for  valor_numerico_i in range(min_i,(max_i+1)):\n",
    "        if  valor_numerico_i in i:\n",
    "            pass\n",
    "        else:\n",
    "            print(f'El número {valor_numerico_i} es el que falta en la lista {i}')\n",
    "            resultados[f'falta_lista_{(lista_listas. index(i)+1)}'] = valor_numerico_i\n",
    "            break\n",
    "print(f'Diccionario de resultados: {resultados}')"
   ]
  },
  {
   "cell_type": "markdown",
   "metadata": {},
   "source": [
    "**Mover los ceros a la izquierda**\n",
    "\n",
    "Nos dan un *string* con números aleatorios. Algunos de ellos son 0. Encuentra todos los ceros y ponlos al principio de la lista, manteniendo el orden de los demás números.\n",
    "\n",
    "Ejemplo:\n",
    "\n",
    "```python\n",
    "A = [1,10,88,0,59,63,0,20,0]\n",
    "\n",
    "# tiene que devolver\n",
    "[0, 0, 0, 1, 10, 88, 59, 63, 20]\n",
    "```"
   ]
  },
  {
   "cell_type": "code",
   "execution_count": 152,
   "metadata": {},
   "outputs": [],
   "source": [
    "A = [1,10,88,0,59,63,0,20,0]"
   ]
  },
  {
   "cell_type": "code",
   "execution_count": 153,
   "metadata": {},
   "outputs": [
    {
     "name": "stdout",
     "output_type": "stream",
     "text": [
      "Lista ordenada: [0, 0, 0, 1, 10, 88, 59, 63, 20]\n"
     ]
    }
   ],
   "source": [
    "# CON FOR LOOPS:\n",
    "# Usando dos for loops para meter a la lista primero todos los ceros y luego ya el resto de elemento en el mismo orden actual\n",
    "A_ord = []\n",
    "for i in A: # itera por la lista buscando los ceros y los añade a `A_ord` \n",
    "    if i == 0:\n",
    "        A_ord.append(i)\n",
    "for i in A: # después de terminar el loop anterior itera por la lista buscando los valores distintos de cero y los añade a `A_ord` \n",
    "    if i != 0:\n",
    "        A_ord.append(i)\n",
    "print(f'Lista ordenada: {A_ord}')"
   ]
  },
  {
   "cell_type": "code",
   "execution_count": 154,
   "metadata": {},
   "outputs": [
    {
     "name": "stdout",
     "output_type": "stream",
     "text": [
      "Lista ordenada: [0, 0, 0, 1, 10, 88, 59, 63, 20]\n"
     ]
    }
   ],
   "source": [
    "# CON LIST COMPREHENSIONS:\n",
    "# Primero itera por la lista buscando los ceros y los añade a `A_ord2` \n",
    "A_ord2 = [i for i in A if i == 0] \n",
    "# Después de terminar el paso anterior itera por la lista buscando los valores distintos de cero y los añade a `A_ord2` también \n",
    "A_ord2 += [i for i in A if i != 0] \n",
    "print(f'Lista ordenada: {A_ord2}')"
   ]
  },
  {
   "cell_type": "markdown",
   "metadata": {},
   "source": [
    "**Invertir palabras de una frase**\n",
    "\n",
    "Nos dan una frase en que quieren que las letras de cada palabra acaben teniendo el orden invertido, manteniendo el orden de las palabras.\n",
    "\n",
    "```python\n",
    "frase = 'Hola Ada'\n",
    "print(frase) # nos daría 'aloH adA'\n",
    "```"
   ]
  },
  {
   "cell_type": "code",
   "execution_count": 156,
   "metadata": {},
   "outputs": [
    {
     "name": "stdout",
     "output_type": "stream",
     "text": [
      "El resultado de dar la vuelta a cada palabra en su posición es: aloH adA\n"
     ]
    }
   ],
   "source": [
    "# CON UN FOR LOOP:\n",
    "# Pasamos el string a lista separando por los espacios\n",
    "frase = 'Hola Ada'\n",
    "lista = frase.split()\n",
    "\n",
    "# Creamos una lista vacía. Iteramos por la lista dando la vuelta a cada elemento de la misma\n",
    "# Metemos luego cada elemento dado la vuelta a la nueva lista que habíamos creado vacía\n",
    "lista_reves = []\n",
    "for i in lista:\n",
    "    lista_reves.append(i[::-1]) # i[::-1] le da la vuelta a cada elemento de la lista (cada palabra del string original)\n",
    "\n",
    "# Unimos en un único string la lista con los elementos del revés, añadiendo espacios entre los elementos de la lista\n",
    "frase_reves = \" \".join(lista_reves)\n",
    "print(f'El resultado de dar la vuelta a cada palabra en su posición es: {frase_reves}')"
   ]
  },
  {
   "cell_type": "code",
   "execution_count": 157,
   "metadata": {},
   "outputs": [
    {
     "name": "stdout",
     "output_type": "stream",
     "text": [
      "El resultado de dar la vuelta a cada palabra en su posición es: aloH adA\n"
     ]
    }
   ],
   "source": [
    "# CON LIST COMPREHENSION:\n",
    "# Pasamos el string a lista separando por los espacios\n",
    "frase_c = 'Hola Ada'\n",
    "lista_c = frase_c.split()\n",
    "\n",
    "# Iteramos por la lista dando la vuelta a cada elemento de la misma\n",
    "lista_reves_c = [i[::-1] for i in lista_c] # i[::-1] le da la vuelta a cada elemento de la lista (cada palabra del string original)\n",
    "\n",
    "# Unimos en un único string la lista con los elementos del revés, añadiendo espacios entre los elementos de la lista\n",
    "frase_c_reves = \" \".join(lista_reves_c)\n",
    "print(f'El resultado de dar la vuelta a cada palabra en su posición es: {frase_c_reves}')"
   ]
  },
  {
   "attachments": {},
   "cell_type": "markdown",
   "metadata": {},
   "source": [
    "###  ¿Es un DNI valido?\n",
    "\n",
    "Los DNI españoles pueden ser:\n",
    "\n",
    "- NIF (Numero de Identificación Fiscal) - 8 numeros y una letra, o\n",
    "- NIE (Numero de Identificación de Extranjeros) - 1 letra, 7 numeros y 1 letra."
   ]
  },
  {
   "cell_type": "code",
   "execution_count": 158,
   "metadata": {},
   "outputs": [],
   "source": [
    "lista_dni = [\"X-1234567-Z\", \"X-1234567\", \"12345678-M\", \"1234567-T\", \"12345677\"] "
   ]
  },
  {
   "cell_type": "code",
   "execution_count": 159,
   "metadata": {},
   "outputs": [
    {
     "name": "stdout",
     "output_type": "stream",
     "text": [
      "X-1234567-Z contiene caracteres no alphanumericos que se van a eliminar a continuación\n",
      "X-1234567 contiene caracteres no alphanumericos que se van a eliminar a continuación\n",
      "12345678-M contiene caracteres no alphanumericos que se van a eliminar a continuación\n",
      "1234567-T contiene caracteres no alphanumericos que se van a eliminar a continuación\n",
      "Lista de posibles DNIs sin caractéres no alfanuméricos: ['X1234567Z', 'X1234567', '12345678M', '1234567T', '12345677']\n"
     ]
    }
   ],
   "source": [
    "# Eliminamos los guiones y puntos que pudieran tener para facilitar el tratado de los datos y su identificación como DNI válido.\n",
    "# Luego los metemos en una lista vacía creada para ello.\n",
    "lista_dni2 = []\n",
    "for i in lista_dni:\n",
    "    if i.isalnum(): # comprueba si solo tiene caracteres alphanumericos\n",
    "        lista_dni2.append(i)\n",
    "    else:\n",
    "        print(f'{i} contiene caracteres no alphanumericos que se van a eliminar a continuación')\n",
    "        dni = i.replace('-', '').replace('.', '')\n",
    "        lista_dni2.append(dni)\n",
    "print (f'Lista de posibles DNIs sin caractéres no alfanuméricos: {lista_dni2}')"
   ]
  },
  {
   "cell_type": "code",
   "execution_count": 160,
   "metadata": {},
   "outputs": [
    {
     "name": "stdout",
     "output_type": "stream",
     "text": [
      "X1234567Z tiene 9 dígitos, podría ser un DNI válido\n",
      "X1234567 no es un DNI válido, es demasiado corto\n",
      "12345678M tiene 9 dígitos, podría ser un DNI válido\n",
      "1234567T no es un DNI válido, es demasiado corto\n",
      "12345677 no es un DNI válido, es demasiado corto\n",
      "Lista de DNI no validos por su longitud: ['X1234567', '1234567T', '12345677']\n",
      "Lista de DNI con longitud válida: ['X1234567Z', '12345678M']\n"
     ]
    }
   ],
   "source": [
    "# Con un for loop evaluamos si la longitud es adecuada a un DNI o no y lo printeamos\n",
    "lista_long_no_valida = []\n",
    "lista_long_valida = []\n",
    "for i in lista_dni2:\n",
    "    if len(i) < 9:\n",
    "        print(f'{i} no es un DNI válido, es demasiado corto')\n",
    "        lista_long_no_valida.append(i)\n",
    "    elif len(i) > 9:\n",
    "        print(f'{i} no es un DNI válido, es demasiado largo')\n",
    "        lista_long_no_valida.append(i)\n",
    "    else:\n",
    "        print(f'{i} tiene 9 dígitos, podría ser un DNI válido')\n",
    "        lista_long_valida.append(i)\n",
    "print(f'Lista de DNI no validos por su longitud: {lista_long_no_valida}')\n",
    "print(f'Lista de DNI con longitud válida: {lista_long_valida}')"
   ]
  },
  {
   "cell_type": "code",
   "execution_count": 163,
   "metadata": {},
   "outputs": [
    {
     "name": "stdout",
     "output_type": "stream",
     "text": [
      "El elemento X1234567Z es un DNI válido\n",
      "El elemento 12345678M es un DNI válido\n",
      "Lista DNI válidos: ['X1234567Z', '12345678M']\n",
      "Lista DNI NO válidos: ['X1234567', '1234567T', '12345677']\n"
     ]
    }
   ],
   "source": [
    "# Con otro for loop evaluamos los DNI con longitud adecuada y\n",
    "# revisamos que los caracteres del segundo al octavo sean números y el noveno sea una letra\n",
    "# incluimos el resultado final con los DNI válidos en una lista y en otra los nó válidos (incluyendo los que no tenían 9 caracteres)\n",
    "lista_dni_valido = []\n",
    "lista_dni_no_valido = lista_long_no_valida\n",
    "for i in lista_long_valida:\n",
    "    if i[1].isdigit() and i[2].isdigit() and i[3].isdigit() and i[4].isdigit() and i[5].isdigit() and i[6].isdigit() and i[7].isdigit() and i[-1].isalpha():\n",
    "        print(f'El elemento {i} es un DNI válido')\n",
    "        lista_dni_valido.append(i)\n",
    "    else:\n",
    "        print(f'{i} no es un DNI válido')\n",
    "        lista_dni_no_valido.append(i)\n",
    "print(f'Lista DNI válidos: {lista_dni_valido}')\n",
    "print(f'Lista DNI NO válidos: {lista_dni_no_valido}')"
   ]
  },
  {
   "attachments": {},
   "cell_type": "markdown",
   "metadata": {},
   "source": [
    "**BONUS: Encuentra los k números más cerca a X**\n",
    "\n",
    "\n",
    "Haz una programa que compare los contenidos de una lista a un número dado X. Queremos que nos devuelva los k números que son más parecidos al número dado.\n",
    "\n",
    "Ejemplo:\n",
    "```python\n",
    "L = [4, 19, -5, 100, 53, 43, 74, -83, 13.5, 26]\n",
    "# Dados los siguientes valores \n",
    "x =30\n",
    "k = 3 # el número de números que tendremos que buscar en la lista que se parecen a 30 \n",
    "# El output debería ser igual a [26, 19, 43]\n",
    "```"
   ]
  },
  {
   "cell_type": "code",
   "execution_count": 164,
   "metadata": {},
   "outputs": [],
   "source": [
    "# Creamos las variables del enunciado\n",
    "L = [4, 19, -5, 100, 53, 43, 74, -83, 13.5, 26]\n",
    "x = 30\n",
    "k = 3"
   ]
  },
  {
   "cell_type": "code",
   "execution_count": 165,
   "metadata": {},
   "outputs": [
    {
     "name": "stdout",
     "output_type": "stream",
     "text": [
      "Lista de las diferencias en valor absoluto: [26, 11, 35, 70, 23, 13, 44, 113, 16.5, 4]\n"
     ]
    }
   ],
   "source": [
    "# Creamos una lista con las diferencias en valor absoluto entre nuestro número x=30 y los valores de la lista `L`\n",
    "lista_restas_abs = []\n",
    "for i in L:\n",
    "    resta_abs = abs(x - i)\n",
    "    lista_restas_abs.append(resta_abs)\n",
    "\n",
    "print(f'Lista de las diferencias en valor absoluto: {lista_restas_abs}')"
   ]
  },
  {
   "cell_type": "code",
   "execution_count": 166,
   "metadata": {},
   "outputs": [
    {
     "name": "stdout",
     "output_type": "stream",
     "text": [
      "Lista de tuplas que generamos al crear una lista a partir del zip: [(26, 4), (11, 19), (35, -5), (70, 100), (23, 53), (13, 43), (44, 74), (113, -83), (16.5, 13.5), (4, 26)]\n"
     ]
    }
   ],
   "source": [
    "# Creamos un zip con las diferencias y la lista L (y convertimos el zip en lista) \n",
    "zip_list = list(zip(lista_restas_abs, L))\n",
    "print(f'Lista de tuplas que generamos al crear una lista a partir del zip: {zip_list}')"
   ]
  },
  {
   "cell_type": "code",
   "execution_count": 167,
   "metadata": {},
   "outputs": [
    {
     "name": "stdout",
     "output_type": "stream",
     "text": [
      "Lista de tuplas ordenada por las diferencias respecto a \"x\": [(4, 26), (11, 19), (13, 43), (16.5, 13.5), (23, 53), (26, 4), (35, -5), (44, 74), (70, 100), (113, -83)]\n"
     ]
    }
   ],
   "source": [
    "# Ordenamos el zip por los valores absolutos de las diferencias\n",
    "zip_list.sort()\n",
    "print(f'Lista de tuplas ordenada por las diferencias respecto a \"x\": {zip_list}')"
   ]
  },
  {
   "cell_type": "code",
   "execution_count": 169,
   "metadata": {},
   "outputs": [
    {
     "name": "stdout",
     "output_type": "stream",
     "text": [
      "Los 3 elementos de la lista `L` más cercanos a 30 son: [26, 19, 43]\n"
     ]
    }
   ],
   "source": [
    "# Extraemos los resultados de la lista en base al número de resultados deseado utilizando un rango\n",
    "resultados_cercanos = [zip_list[r][1]for r in range(k)]\n",
    "print(f'Los {k} elementos de la lista `L` más cercanos a {x} son: {resultados_cercanos}')\n",
    "    "
   ]
  }
 ],
 "metadata": {
  "kernelspec": {
   "display_name": "adalabenv",
   "language": "python",
   "name": "python3"
  },
  "language_info": {
   "codemirror_mode": {
    "name": "ipython",
    "version": 3
   },
   "file_extension": ".py",
   "mimetype": "text/x-python",
   "name": "python",
   "nbconvert_exporter": "python",
   "pygments_lexer": "ipython3",
   "version": "3.10.9"
  },
  "orig_nbformat": 4,
  "vscode": {
   "interpreter": {
    "hash": "982f2751c33df6248463c13acbc6212f8872fb2f983edea342e7641fdc0e9b5d"
   }
  }
 },
 "nbformat": 4,
 "nbformat_minor": 2
}
